{
 "cells": [
  {
   "cell_type": "code",
   "execution_count": 1,
   "id": "atmospheric-rainbow",
   "metadata": {},
   "outputs": [],
   "source": [
    "import string"
   ]
  },
  {
   "cell_type": "markdown",
   "id": "clinical-classics",
   "metadata": {},
   "source": [
    "# Create a Vigenère square using dictionaries \n",
    "\n",
    "First we want to consturct a Vigenère Square. This square will simply map each letter which we can encode to an enciphered value for every possible key text."
   ]
  },
  {
   "cell_type": "markdown",
   "id": "numerical-concert",
   "metadata": {},
   "source": [
    "`decoder['B']`"
   ]
  },
  {
   "cell_type": "markdown",
   "id": "little-honor",
   "metadata": {},
   "source": [
    "`{'B': 'A', 'C': 'B', 'D': 'C', 'E': 'D', 'F': 'E', 'G': 'F', 'H': 'G',...}`"
   ]
  },
  {
   "cell_type": "code",
   "execution_count": 6,
   "id": "sporting-burns",
   "metadata": {},
   "outputs": [],
   "source": [
    "available_characters = list(string.ascii_uppercase) + [str(i) for i in range(10)] + list(string.punctuation) + [\" \"]\n",
    "\n",
    "# two dictionaries we will use to map characters to itegers and vice versa\n",
    "base_char_int_mapping = {}\n",
    "base_int_char_mapping = {}\n",
    "i = 0\n",
    "# create a dictionary of characters to integer mappings, we will use ths to make the vinegere square\n",
    "for character in available_characters:        \n",
    "    base_char_int_mapping[character] = i\n",
    "    base_int_char_mapping[i] = character\n",
    "    i+=1\n",
    "\n",
    "# determine the max value so we know when we need to roll back to 0\n",
    "max_char_value = i-1\n",
    "\n",
    "# loop through each character and encode the character by adding an \n",
    "# offset to it for each letter in the available characters\n",
    "offset = 0\n",
    "encoder = {}\n",
    "decoder = {}\n",
    "for key_char in available_characters:\n",
    "    key_encoder_lookup = {}\n",
    "    key_decoder_lookup = {}\n",
    "    for plain_text_char in available_characters:\n",
    "        offset_char_int_value = base_char_int_mapping[plain_text_char] + offset\n",
    "        if offset_char_int_value > max_char_value:\n",
    "            offset_char_int_value = offset_char_int_value - max_char_value - 1\n",
    "        offset_character_mapping = base_int_char_mapping[offset_char_int_value]\n",
    "        key_encoder_lookup[plain_text_char] = offset_character_mapping\n",
    "        key_decoder_lookup[offset_character_mapping] = plain_text_char\n",
    "    encoder[key_char] = key_encoder_lookup\n",
    "    decoder[key_char] = key_decoder_lookup\n",
    "    offset +=1"
   ]
  },
  {
   "cell_type": "markdown",
   "id": "healthy-formula",
   "metadata": {},
   "source": [
    "**Use the encoder to encode the letter V according to the key letter B then decode using the decoder**"
   ]
  },
  {
   "cell_type": "code",
   "execution_count": 4,
   "id": "controlling-photographer",
   "metadata": {},
   "outputs": [
    {
     "data": {
      "text/plain": [
       "'W'"
      ]
     },
     "execution_count": 4,
     "metadata": {},
     "output_type": "execute_result"
    }
   ],
   "source": [
    "encoder['B']['V']"
   ]
  },
  {
   "cell_type": "code",
   "execution_count": 5,
   "id": "civilian-philosophy",
   "metadata": {},
   "outputs": [
    {
     "data": {
      "text/plain": [
       "'V'"
      ]
     },
     "execution_count": 5,
     "metadata": {},
     "output_type": "execute_result"
    }
   ],
   "source": [
    "decoder['B']['W']"
   ]
  },
  {
   "cell_type": "markdown",
   "id": "junior-regression",
   "metadata": {},
   "source": [
    "# Functions to encode and decode messages"
   ]
  },
  {
   "cell_type": "code",
   "execution_count": 11,
   "id": "administrative-stable",
   "metadata": {},
   "outputs": [],
   "source": [
    "def encode_message(message, key, encoder):\n",
    "    # first lets remove any \\n from the message\n",
    "    message = message.replace(\"\\n\", \" \").upper()\n",
    "    encoded_message = []\n",
    "    key_index = 0\n",
    "    # convert key to list and replace any unsupported characters in the key with a _\n",
    "    key_as_list = [\n",
    "        key_character if key_character in encoder.keys() else \"_\" for key_character in list(key)\n",
    "    ]\n",
    "    \n",
    "    # iterate thorugh each character in the message we want to encode and encde it\n",
    "    for character in message:\n",
    "        # need to go back to the start of the key if we reach the end\n",
    "        if key_index > len(key_as_list) -1:\n",
    "            key_index = 0\n",
    "        # figure out which character in the key we need to encode based on\n",
    "        key_character = key_as_list[key_index]\n",
    "        # first if the character isn't covered lets just encode it as a _\n",
    "        if character not in encoder.keys():\n",
    "            encoded_message.append(\"_\")\n",
    "        else:\n",
    "            encoded_message.append(encoder[key_character][character])\n",
    "        key_index+=1\n",
    "        \n",
    "    return \"\".join(encoded_message)"
   ]
  },
  {
   "cell_type": "code",
   "execution_count": 12,
   "id": "floating-uniform",
   "metadata": {},
   "outputs": [],
   "source": [
    "def decode_message(message, key, decoder):\n",
    "    # first lets remove any \\n from the message\n",
    "    message = message.replace(\"\\n\", \" \").upper()\n",
    "    decoded_message = []\n",
    "    key_index = 0\n",
    "    # convert key to list and replace any unsupported characters in the key with a _\n",
    "    key_as_list = [\n",
    "        key_character if key_character in decoder.keys() else \"_\" for key_character in list(key)\n",
    "    ]\n",
    "    \n",
    "    for character in message:\n",
    "        # need to go back to the start of the key if we reach the end\n",
    "        if key_index > len(key_as_list) -1:\n",
    "            key_index = 0\n",
    "        # figure out which character in the key we need to encode based on\n",
    "        key_character = key_as_list[key_index]\n",
    "        # first if the character isn't covered lets just encode it as a _\n",
    "        if character not in decoder.keys():\n",
    "            decoded_message.append(\"_\")\n",
    "        else:\n",
    "            decoded_message.append(decoder[key_character][character])\n",
    "        key_index+=1\n",
    "        \n",
    "    return \"\".join(decoded_message)"
   ]
  },
  {
   "cell_type": "markdown",
   "id": "capital-minutes",
   "metadata": {},
   "source": [
    "# Use the functions to encrypt and decrypt some text "
   ]
  },
  {
   "cell_type": "code",
   "execution_count": 16,
   "id": "close-tulsa",
   "metadata": {},
   "outputs": [
    {
     "name": "stdout",
     "output_type": "stream",
     "text": [
      "YVX\"1ZRQA80YE1XP#N8 3&H!B5\"O#VKQ78OCBS2O!SGUY:\n"
     ]
    }
   ],
   "source": [
    "message = \"We will attack at 2:30AM on the 7th, be ready!\"\n",
    "keyphrase = \"CRYPTOGRAPHY\"\n",
    "encoded_message = encode_message(message, keyphrase, encoder)\n",
    "print(encoded_message)"
   ]
  },
  {
   "cell_type": "code",
   "execution_count": 17,
   "id": "small-check",
   "metadata": {},
   "outputs": [
    {
     "data": {
      "text/plain": [
       "'WE WILL ATTACK AT 2:30AM ON THE 7TH, BE READY!'"
      ]
     },
     "execution_count": 17,
     "metadata": {},
     "output_type": "execute_result"
    }
   ],
   "source": [
    "decoded_message = decode_message(encoded_message, keyphrase, decoder)\n",
    "decoded_message"
   ]
  },
  {
   "cell_type": "code",
   "execution_count": null,
   "id": "miniature-couple",
   "metadata": {},
   "outputs": [],
   "source": []
  }
 ],
 "metadata": {
  "kernelspec": {
   "display_name": "Python 3",
   "language": "python",
   "name": "python3"
  },
  "language_info": {
   "codemirror_mode": {
    "name": "ipython",
    "version": 3
   },
   "file_extension": ".py",
   "mimetype": "text/x-python",
   "name": "python",
   "nbconvert_exporter": "python",
   "pygments_lexer": "ipython3",
   "version": "3.8.7"
  },
  "toc": {
   "base_numbering": 1,
   "nav_menu": {},
   "number_sections": true,
   "sideBar": true,
   "skip_h1_title": false,
   "title_cell": "Table of Contents",
   "title_sidebar": "Contents",
   "toc_cell": false,
   "toc_position": {},
   "toc_section_display": true,
   "toc_window_display": false
  }
 },
 "nbformat": 4,
 "nbformat_minor": 5
}
